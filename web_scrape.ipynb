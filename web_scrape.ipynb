{
 "cells": [
  {
   "cell_type": "markdown",
   "metadata": {},
   "source": [
    "I use the following guide to leverage the Python Reddit API Wrapper (praw) to scrape posts from a given subreddit.\n",
    "https://www.geeksforgeeks.org/scraping-reddit-using-python/#"
   ]
  }
 ],
 "metadata": {
  "language_info": {
   "name": "python"
  },
  "orig_nbformat": 4
 },
 "nbformat": 4,
 "nbformat_minor": 2
}
